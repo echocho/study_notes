{
 "cells": [
  {
   "cell_type": "markdown",
   "metadata": {},
   "source": [
    "## List Comprehension ##\n",
    "\n",
    "## Dictionary Comprehension ##\n"
   ]
  },
  {
   "cell_type": "markdown",
   "metadata": {},
   "source": [
    "## Lambda function ## \n",
    "### syntax ###\n",
    "#### lambda arguments : expression ####\n",
    "1. a lambda function可以有任意数量的arguments, 但只能有一个expression\n",
    "2. used for creating small, one-time and anonymous function objects\n",
    "3. return: function object\n",
    "4. compare:\n",
    "```python3\n",
    "def add(x, y):\n",
    "    return x + y\n",
    "```\n",
    "```python3\n",
    "add = lambda x, y : x + y\n",
    "print(add(2,3))\n",
    "```\n",
    "\n",
    "### map ###\n",
    "#### syntax ####\n",
    "##### map(function_object, iterable1, iterable2, ..) #####\n",
    "1. it executes the function_object to each element in the sequence and returns a list of the elements modified by the object_function.\n",
    "2. compare:\n",
    "```python3\n",
    "def multiply(x):\n",
    "    return x * 2\n",
    "map(multiply, [1,2,3,4])  # output: [2,4,6,8]\n",
    "```\n",
    "```python3\n",
    " list(map(lambda x: x * 2, [1,2,3,4])) # output: [2,4,6,8]\n",
    "```\n",
    "\n",
    "### filter ###\n",
    "#### syntax ####\n",
    "##### filter(function_object, iterable) #####\n",
    "1. function_object is executed on each element in the iterable and filter only returns those elements for which the functin_object returns true\n",
    "2. example:\n",
    "```python3\n",
    "a = [1,2,3,4,5,6]\n",
    "filter(lambda x: x % 2 == 0, a) #output [2,4,6]\n",
    "```"
   ]
  },
  {
   "cell_type": "code",
   "execution_count": null,
   "metadata": {},
   "outputs": [],
   "source": []
  }
 ],
 "metadata": {
  "kernelspec": {
   "display_name": "Python 3",
   "language": "python",
   "name": "python3"
  },
  "language_info": {
   "codemirror_mode": {
    "name": "ipython",
    "version": 3
   },
   "file_extension": ".py",
   "mimetype": "text/x-python",
   "name": "python",
   "nbconvert_exporter": "python",
   "pygments_lexer": "ipython3",
   "version": "3.7.2"
  }
 },
 "nbformat": 4,
 "nbformat_minor": 2
}
