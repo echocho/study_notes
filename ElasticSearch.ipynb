{
 "cells": [
  {
   "cell_type": "markdown",
   "metadata": {},
   "source": [
    "## Basic Concepts ##\n",
    "\n",
    "- Near Realtime (NRT)\n",
    "- Cluster\n",
    "- Node (a.k.a a single server)\n",
    "- Index \n",
    "    - a collection of documents that have somewhat similar characterisitcs\n",
    "- Type\n",
    "    - a logical category/partition of index\n",
    "    - mapping types will be REMOVED from 6.0.0\n",
    "- Document\n",
    "    - a basic unit of information that can be indexed\n",
    "- Shards & Replicas\n",
    "    - index subdivided into multiple pieces --> shards\n",
    "    - copies of original shards --> replicas\n",
    "    \n",
    "### Source ###\n",
    "1. https://www.elastic.co/guide/en/elasticsearch/reference/current/getting-started-concepts.html"
   ]
  }
 ],
 "metadata": {
  "kernelspec": {
   "display_name": "Python 3",
   "language": "python",
   "name": "python3"
  },
  "language_info": {
   "codemirror_mode": {
    "name": "ipython",
    "version": 3
   },
   "file_extension": ".py",
   "mimetype": "text/x-python",
   "name": "python",
   "nbconvert_exporter": "python",
   "pygments_lexer": "ipython3",
   "version": "3.7.2"
  }
 },
 "nbformat": 4,
 "nbformat_minor": 2
}
